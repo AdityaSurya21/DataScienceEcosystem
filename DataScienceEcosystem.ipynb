{
 "cells": [
  {
   "cell_type": "markdown",
   "id": "978a2877-e548-424c-abe3-c06999b8c9a8",
   "metadata": {},
   "source": [
    "# Data Science Tools and Ecosystem"
   ]
  },
  {
   "cell_type": "markdown",
   "id": "7b08510c-9f3a-4447-9a6a-1492668227a9",
   "metadata": {},
   "source": [
    "In this notebook, Data Science Tools and Ecosystem are summarized."
   ]
  },
  {
   "cell_type": "markdown",
   "id": "d988ce24-56b4-4737-9b2a-b4840cda0b5a",
   "metadata": {},
   "source": [
    "Some of the popular languages that Data Scientists use are:\n",
    "\n",
    "1. Python \n",
    "2. R \n",
    "3. Scala \n",
    "4. Julia \n",
    "5. Java \n",
    "6. C++ \n",
    "7. SQL"
   ]
  },
  {
   "cell_type": "markdown",
   "id": "5c7ca739-8ae7-4fa6-b26f-9d3dbaea272b",
   "metadata": {},
   "source": [
    "Some of the commonly used libraries used by Data Scientists include:\n",
    "\n",
    "1. Pandas \n",
    "2. Numpy \n",
    "3. Matplotlib \n",
    "4. Seaborn \n",
    "5. Scikit-Learn "
   ]
  },
  {
   "cell_type": "markdown",
   "id": "c56ab30e-52bd-44c5-b6fe-e2d06437c01a",
   "metadata": {},
   "source": [
    "|Data Science Tools|\n",
    "|------|\n",
    "|Jupyter Lab|\n",
    "|R Studio|\n",
    "|Ray|\n",
    "|SAS|"
   ]
  },
  {
   "cell_type": "markdown",
   "id": "2aaaa60a-03a5-4e7a-846e-3663e9188511",
   "metadata": {},
   "source": [
    "## Below are a few examples of evaluating arithmetic expressions in Python"
   ]
  },
  {
   "cell_type": "code",
   "execution_count": 1,
   "id": "6a4e24f8-b1cd-48d1-bc47-f1e48ef4fa1b",
   "metadata": {},
   "outputs": [
    {
     "data": {
      "text/plain": [
       "17"
      ]
     },
     "execution_count": 1,
     "metadata": {},
     "output_type": "execute_result"
    }
   ],
   "source": [
    "# This a simple arithmetic expression to mutiply then add integers\n",
    "(3 * 4) + 5"
   ]
  },
  {
   "cell_type": "code",
   "execution_count": 2,
   "id": "57dbf545-b038-4336-aec6-59c9b7c7d828",
   "metadata": {},
   "outputs": [
    {
     "name": "stdout",
     "output_type": "stream",
     "text": [
      "3.3333333333333335 hours\n"
     ]
    }
   ],
   "source": [
    "# This will convert 200 minutes to hours by diving by 60\n",
    "print(200 / 60, \"hours\")"
   ]
  },
  {
   "cell_type": "markdown",
   "id": "b653cdd8-b9ed-4ce3-bdec-5221a8f6afbc",
   "metadata": {},
   "source": [
    "__Objectives:__\n",
    "\n",
    "* List popular Data Science languages\n",
    "* List commonly used Data Science libraries\n",
    "* List commonly used Data Science development environment tools\n",
    "* Evaluate arithmetic expressions in Python"
   ]
  },
  {
   "cell_type": "markdown",
   "id": "612edd8d-ba12-4ebd-a2b2-001a04f346e0",
   "metadata": {},
   "source": [
    "### Author\n",
    "Aditya Surya"
   ]
  }
 ],
 "metadata": {
  "kernelspec": {
   "display_name": "Python 3 (ipykernel)",
   "language": "python",
   "name": "python3"
  },
  "language_info": {
   "codemirror_mode": {
    "name": "ipython",
    "version": 3
   },
   "file_extension": ".py",
   "mimetype": "text/x-python",
   "name": "python",
   "nbconvert_exporter": "python",
   "pygments_lexer": "ipython3",
   "version": "3.11.9"
  }
 },
 "nbformat": 4,
 "nbformat_minor": 5
}
